{
 "cells": [
  {
   "cell_type": "code",
   "execution_count": 2,
   "metadata": {
    "collapsed": true
   },
   "outputs": [],
   "source": [
    "import sys\n",
    "sys.path.append('/Users/inagakiyuuya/Dropbox/Inagaki/dataset/mnist_data')\n",
    "import LoadMNIST as load\n",
    "\n",
    "datapath = '/Users/inagakiyuuya/Dropbox/Inagaki/dataset/mnist_data'\n",
    "imgTrain = load.readMNIST('train_img', datapath)\n",
    "labTrain = load.readMNIST('train_label', datapath)\n",
    "\n",
    "#sys.path.append('../chai_src')\n",
    "#import chainerutil\n",
    "#from chainerutil import*"
   ]
  },
  {
   "cell_type": "markdown",
   "metadata": {},
   "source": [
    "http://i101330.hatenablog.com/entry/2015/12/13/012736"
   ]
  },
  {
   "cell_type": "code",
   "execution_count": 9,
   "metadata": {
    "collapsed": true
   },
   "outputs": [],
   "source": [
    "import numpy as np\n",
    "import chainer\n",
    "from chainer import cuda, Function, gradient_check, Variable, optimizers, serializers, utils\n",
    "from chainer import Link, Chain, ChainList\n",
    "import chainer.functions as F\n",
    "import chainer.links as L"
   ]
  },
  {
   "cell_type": "code",
   "execution_count": 10,
   "metadata": {},
   "outputs": [
    {
     "data": {
      "text/plain": [
       "variable([ 5.])"
      ]
     },
     "execution_count": 10,
     "metadata": {},
     "output_type": "execute_result"
    }
   ],
   "source": [
    "x_data = np.array([5], dtype=np.float32)\n",
    "x = Variable(x_data)\n",
    "x"
   ]
  },
  {
   "cell_type": "raw",
   "metadata": {},
   "source": [
    "chainer Variable について\n",
    "chainerを使って定義した機械学習ネットワークにデータを投げる時には型をVariableにしなければいけない。その時、引数に与えるデータは常にnp.arrayを用いる必要がある。\n",
    "また浮動小数点を用いる場合、float32への変換も必要。float32にする理由はchainerがfloat64に対応していないのでエラーが起こるから。\n",
    "参考URL：https://qiita.com/rerere0101/items/bc841829da06fa466406\n",
    "\n",
    "x_train = [0,0,0,0,0]\n",
    "x_np_train = np.array(x_train, dtype=np.float32)\n",
    "x_val_train = Variable(x_np_train)\n",
    "x_val_train\n"
   ]
  },
  {
   "cell_type": "code",
   "execution_count": 11,
   "metadata": {
    "collapsed": true
   },
   "outputs": [],
   "source": [
    "y = x**2 - 2*x + 1"
   ]
  },
  {
   "cell_type": "raw",
   "metadata": {},
   "source": [
    "data属性にアクセスして、yの値を取得することができる。\n",
    "data属性とは、インスタント変数に相当する。"
   ]
  },
  {
   "cell_type": "code",
   "execution_count": 12,
   "metadata": {},
   "outputs": [
    {
     "data": {
      "text/plain": [
       "array([ 16.], dtype=float32)"
      ]
     },
     "execution_count": 12,
     "metadata": {},
     "output_type": "execute_result"
    }
   ],
   "source": [
    "y.data"
   ]
  },
  {
   "cell_type": "raw",
   "metadata": {},
   "source": [
    "backward()のメソッドを呼ぶことで、微分を計算することもできる。"
   ]
  },
  {
   "cell_type": "code",
   "execution_count": 13,
   "metadata": {
    "collapsed": true
   },
   "outputs": [],
   "source": [
    "y.backward()#これで、逆伝播が実行される"
   ]
  },
  {
   "cell_type": "raw",
   "metadata": {},
   "source": [
    "計算された勾配は、入力変数xのgrad属性に保存される"
   ]
  },
  {
   "cell_type": "code",
   "execution_count": 14,
   "metadata": {},
   "outputs": [
    {
     "data": {
      "text/plain": [
       "array([ 8.], dtype=float32)"
      ]
     },
     "execution_count": 14,
     "metadata": {},
     "output_type": "execute_result"
    }
   ],
   "source": [
    "x.grad"
   ]
  },
  {
   "cell_type": "raw",
   "metadata": {},
   "source": [
    "次のような勾配も計算できる。"
   ]
  },
  {
   "cell_type": "code",
   "execution_count": 15,
   "metadata": {},
   "outputs": [
    {
     "data": {
      "text/plain": [
       "(array([ 16.], dtype=float32), array([-1.], dtype=float32))"
      ]
     },
     "execution_count": 15,
     "metadata": {},
     "output_type": "execute_result"
    }
   ],
   "source": [
    "z = 2*x\n",
    "y = x**2 - z + 1\n",
    "#zの勾配情報を保存するために、retain_grad引数をbackwardメソッドにTrueで渡す。\n",
    "y.backward(retain_grad=True)\n",
    "x.grad,z.grad"
   ]
  },
  {
   "cell_type": "raw",
   "metadata": {},
   "source": [
    "多要素配列に一般化する。もし、多要素配列の変数を全て勾配計算したい場合は、手動で初期誤差を設定する必要がある。これは、出力変数grad属性を設定することで簡単にできる。"
   ]
  },
  {
   "cell_type": "code",
   "execution_count": 17,
   "metadata": {},
   "outputs": [
    {
     "data": {
      "text/plain": [
       "(array([[  0.,   2.,   4.],\n",
       "        [  6.,   8.,  10.]], dtype=float32), array([[  0.,   1.,   4.],\n",
       "        [  9.,  16.,  25.]], dtype=float32))"
      ]
     },
     "execution_count": 17,
     "metadata": {},
     "output_type": "execute_result"
    }
   ],
   "source": [
    "x = Variable(np.array([[1, 2, 3], [4, 5, 6]], dtype=np.float32))\n",
    "y = x**2 - 2*x + 1\n",
    "y.grad = np.ones((2, 3), dtype=np.float32)\n",
    "y.backward()\n",
    "x.grad, y.data"
   ]
  },
  {
   "cell_type": "raw",
   "metadata": {
    "collapsed": true
   },
   "source": [
    "Links\n",
    "Linkはパラメータを保持するオブジェクト。\n",
    "もっともよく使われるLinksは、Linearリンク。\n",
    "f(x)=Wx+bのような算術を表現する。Wは行列。bはベクトル。"
   ]
  },
  {
   "cell_type": "code",
   "execution_count": 20,
   "metadata": {},
   "outputs": [],
   "source": [
    "f = L.Linear(3, 2)#3次元空間から2次元空間へ写像する線形代数。"
   ]
  },
  {
   "cell_type": "raw",
   "metadata": {},
   "source": [
    "ほとんどの関数は、ミニバッチ入力（データ）しか受け入れない。\n",
    "※ミニバッチとは、一部のデータ（全てののデータでない）"
   ]
  },
  {
   "cell_type": "raw",
   "metadata": {},
   "source": [
    "http://www.hpc.co.jp/AboutDeepLearning.html"
   ]
  },
  {
   "cell_type": "raw",
   "metadata": {},
   "source": [
    "LinkのパラメータはValiable型のインスタンスとして生成される。\n",
    "行列Wはランダムに生成される。また、ベクトルbもランダムはゼロで生成される。（初期設定）"
   ]
  },
  {
   "cell_type": "code",
   "execution_count": 22,
   "metadata": {},
   "outputs": [
    {
     "data": {
      "text/plain": [
       "(array([[ 1.09753501,  0.03810362,  0.53293967],\n",
       "        [-1.11881101,  0.86676276,  0.51231837]], dtype=float32),\n",
       " array([ 0.,  0.], dtype=float32))"
      ]
     },
     "execution_count": 22,
     "metadata": {},
     "output_type": "execute_result"
    }
   ],
   "source": [
    "f.W.data,f.b.data"
   ]
  },
  {
   "cell_type": "code",
   "execution_count": null,
   "metadata": {
    "collapsed": true
   },
   "outputs": [],
   "source": []
  }
 ],
 "metadata": {
  "kernelspec": {
   "display_name": "Python 3",
   "language": "python",
   "name": "python3"
  },
  "language_info": {
   "codemirror_mode": {
    "name": "ipython",
    "version": 3
   },
   "file_extension": ".py",
   "mimetype": "text/x-python",
   "name": "python",
   "nbconvert_exporter": "python",
   "pygments_lexer": "ipython3",
   "version": "3.6.3"
  }
 },
 "nbformat": 4,
 "nbformat_minor": 2
}
